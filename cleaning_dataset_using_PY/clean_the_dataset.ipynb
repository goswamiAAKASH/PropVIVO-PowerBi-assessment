{
 "cells": [
  {
   "cell_type": "code",
   "execution_count": 1,
   "id": "b3471786-1937-405d-bf4c-a71c5fdd4538",
   "metadata": {
    "scrolled": true
   },
   "outputs": [
    {
     "name": "stdout",
     "output_type": "stream",
     "text": [
      "Requirement already satisfied: pandas in d:\\python\\lib\\site-packages (2.2.2)\n",
      "Requirement already satisfied: openpyxl in d:\\python\\lib\\site-packages (3.1.5)\n",
      "Collecting xlsxwriter\n",
      "  Downloading xlsxwriter-3.2.5-py3-none-any.whl.metadata (2.7 kB)\n",
      "Requirement already satisfied: numpy>=1.22.4 in d:\\python\\lib\\site-packages (from pandas) (2.0.0)\n",
      "Requirement already satisfied: python-dateutil>=2.8.2 in d:\\python\\lib\\site-packages (from pandas) (2.8.2)\n",
      "Requirement already satisfied: pytz>=2020.1 in d:\\python\\lib\\site-packages (from pandas) (2023.3)\n",
      "Requirement already satisfied: tzdata>=2022.7 in d:\\python\\lib\\site-packages (from pandas) (2024.1)\n",
      "Requirement already satisfied: et-xmlfile in d:\\python\\lib\\site-packages (from openpyxl) (2.0.0)\n",
      "Requirement already satisfied: six>=1.5 in d:\\python\\lib\\site-packages (from python-dateutil>=2.8.2->pandas) (1.16.0)\n",
      "Downloading xlsxwriter-3.2.5-py3-none-any.whl (172 kB)\n",
      "Installing collected packages: xlsxwriter\n",
      "Successfully installed xlsxwriter-3.2.5\n",
      "Note: you may need to restart the kernel to use updated packages.\n"
     ]
    },
    {
     "name": "stderr",
     "output_type": "stream",
     "text": [
      "\n",
      "[notice] A new release of pip is available: 25.1.1 -> 25.2\n",
      "[notice] To update, run: python.exe -m pip install --upgrade pip\n"
     ]
    }
   ],
   "source": [
    "pip install pandas openpyxl xlsxwriter\n"
   ]
  },
  {
   "cell_type": "code",
   "execution_count": 2,
   "id": "4ab050af-5b84-4abe-9b7e-31fbb345fb32",
   "metadata": {},
   "outputs": [
    {
     "name": "stdout",
     "output_type": "stream",
     "text": [
      "Cleaned dataset saved to: D:\\xyz\\PowerBI_Cleaned_Dataset.xlsx\n"
     ]
    }
   ],
   "source": [
    "import pandas as pd\n",
    "\n",
    "# Update this to your actual file path\n",
    "file_path = r\"D:\\xyz\\PowerBI_Uncleaned_Dataset-Project1.xlsx\"\n",
    "\n",
    "# Load the dataset\n",
    "xls = pd.ExcelFile(file_path)\n",
    "sales = pd.read_excel(xls, 'Sales')\n",
    "products = pd.read_excel(xls, 'Products')\n",
    "customers = pd.read_excel(xls, 'Customers')\n",
    "\n",
    "# --- Clean Sales Table ---\n",
    "# Convert Date to datetime\n",
    "sales['Date'] = pd.to_datetime(sales['Date'], dayfirst=True, errors='coerce')\n",
    "\n",
    "# Remove nulls in important fields\n",
    "sales = sales.dropna(subset=['FeedbackScore', 'PaymentMode'])\n",
    "\n",
    "# Standardize PaymentMode text\n",
    "sales['PaymentMode'] = sales['PaymentMode'].astype(str).str.strip().str.title()\n",
    "\n",
    "# Remove duplicates by SaleID\n",
    "sales = sales.drop_duplicates(subset=['SaleID'])\n",
    "\n",
    "# --- Clean Products Table ---\n",
    "# Remove duplicates by ProductID\n",
    "products = products.drop_duplicates(subset=['ProductID'])\n",
    "\n",
    "# Standardize text columns\n",
    "products['ProductName'] = products['ProductName'].astype(str).str.strip().str.title()\n",
    "products['Category'] = products['Category'].astype(str).str.strip().str.title()\n",
    "\n",
    "# Remove invalid entries (e.g., UnitPrice <= 0)\n",
    "products = products[(products['UnitPrice'] > 0) & (products['ProductName'] != \"\")]\n",
    "\n",
    "# --- Clean Customers Table ---\n",
    "# Remove duplicates by CustomerID\n",
    "customers = customers.drop_duplicates(subset=['CustomerID'])\n",
    "\n",
    "# Standardize text fields\n",
    "customers['Name'] = customers['Name'].astype(str).str.strip().str.title()\n",
    "customers['City'] = customers['City'].astype(str).str.strip().str.title()\n",
    "\n",
    "# Remove rows with missing key info\n",
    "customers = customers.dropna(subset=['CustomerID', 'City', 'Age'])\n",
    "\n",
    "# Convert Age to integer\n",
    "customers['Age'] = customers['Age'].astype(int, errors='ignore')\n",
    "\n",
    "# --- Save cleaned dataset ---\n",
    "output_path = r\"D:\\xyz\\PowerBI_Cleaned_Dataset.xlsx\"\n",
    "with pd.ExcelWriter(output_path, engine='xlsxwriter') as writer:\n",
    "    sales.to_excel(writer, sheet_name='Sales', index=False)\n",
    "    products.to_excel(writer, sheet_name='Products', index=False)\n",
    "    customers.to_excel(writer, sheet_name='Customers', index=False)\n",
    "\n",
    "print(f\"Cleaned dataset saved to: {output_path}\")\n"
   ]
  },
  {
   "cell_type": "code",
   "execution_count": null,
   "id": "f187f350-128f-419c-a0c8-ed65b7fcd108",
   "metadata": {},
   "outputs": [],
   "source": []
  }
 ],
 "metadata": {
  "kernelspec": {
   "display_name": "Python 3 (ipykernel)",
   "language": "python",
   "name": "python3"
  },
  "language_info": {
   "codemirror_mode": {
    "name": "ipython",
    "version": 3
   },
   "file_extension": ".py",
   "mimetype": "text/x-python",
   "name": "python",
   "nbconvert_exporter": "python",
   "pygments_lexer": "ipython3",
   "version": "3.10.11"
  }
 },
 "nbformat": 4,
 "nbformat_minor": 5
}
